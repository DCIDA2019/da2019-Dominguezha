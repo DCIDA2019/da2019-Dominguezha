{
 "cells": [
  {
   "cell_type": "code",
   "execution_count": 10,
   "metadata": {},
   "outputs": [],
   "source": [
    "import numpy as np\n",
    "import matplotlib.pyplot as plt"
   ]
  },
  {
   "cell_type": "markdown",
   "metadata": {},
   "source": [
    "## Funciones y eficiencia de ciclos y arreglos ##"
   ]
  },
  {
   "cell_type": "code",
   "execution_count": 11,
   "metadata": {},
   "outputs": [],
   "source": [
    "def f(x):\n",
    "    y=()\n",
    "    for i in range(len(x)):\n",
    "        if x[i]%2==0:\n",
    "            y.append(x[i]*x[i])\n",
    "        else:\n",
    "            y.append(np.log(x[i]))"
   ]
  },
  {
   "cell_type": "code",
   "execution_count": 12,
   "metadata": {},
   "outputs": [
    {
     "data": {
      "text/plain": [
       "array([ 1,  4,  7, 10, 13, 16, 19, 22, 25, 28, 31, 34, 37, 40, 43, 46, 49])"
      ]
     },
     "execution_count": 12,
     "metadata": {},
     "output_type": "execute_result"
    }
   ],
   "source": [
    "xx=np.arange(1,50,3)\n",
    "xx"
   ]
  },
  {
   "cell_type": "code",
   "execution_count": 13,
   "metadata": {},
   "outputs": [
    {
     "ename": "AttributeError",
     "evalue": "'tuple' object has no attribute 'append'",
     "output_type": "error",
     "traceback": [
      "\u001b[0;31m---------------------------------------------------------------------------\u001b[0m",
      "\u001b[0;31mAttributeError\u001b[0m                            Traceback (most recent call last)",
      "\u001b[0;32m<ipython-input-13-00982db8a225>\u001b[0m in \u001b[0;36m<module>\u001b[0;34m\u001b[0m\n\u001b[0;32m----> 1\u001b[0;31m \u001b[0mf\u001b[0m\u001b[0;34m(\u001b[0m\u001b[0mxx\u001b[0m\u001b[0;34m)\u001b[0m\u001b[0;34m\u001b[0m\u001b[0;34m\u001b[0m\u001b[0m\n\u001b[0m",
      "\u001b[0;32m<ipython-input-11-15ba2dc8c1ca>\u001b[0m in \u001b[0;36mf\u001b[0;34m(x)\u001b[0m\n\u001b[1;32m      5\u001b[0m             \u001b[0my\u001b[0m\u001b[0;34m.\u001b[0m\u001b[0mappend\u001b[0m\u001b[0;34m(\u001b[0m\u001b[0mx\u001b[0m\u001b[0;34m[\u001b[0m\u001b[0mi\u001b[0m\u001b[0;34m]\u001b[0m\u001b[0;34m*\u001b[0m\u001b[0mx\u001b[0m\u001b[0;34m[\u001b[0m\u001b[0mi\u001b[0m\u001b[0;34m]\u001b[0m\u001b[0;34m)\u001b[0m\u001b[0;34m\u001b[0m\u001b[0;34m\u001b[0m\u001b[0m\n\u001b[1;32m      6\u001b[0m         \u001b[0;32melse\u001b[0m\u001b[0;34m:\u001b[0m\u001b[0;34m\u001b[0m\u001b[0;34m\u001b[0m\u001b[0m\n\u001b[0;32m----> 7\u001b[0;31m             \u001b[0my\u001b[0m\u001b[0;34m.\u001b[0m\u001b[0mappend\u001b[0m\u001b[0;34m(\u001b[0m\u001b[0mnp\u001b[0m\u001b[0;34m.\u001b[0m\u001b[0mlog\u001b[0m\u001b[0;34m(\u001b[0m\u001b[0mx\u001b[0m\u001b[0;34m[\u001b[0m\u001b[0mi\u001b[0m\u001b[0;34m]\u001b[0m\u001b[0;34m)\u001b[0m\u001b[0;34m)\u001b[0m\u001b[0;34m\u001b[0m\u001b[0;34m\u001b[0m\u001b[0m\n\u001b[0m",
      "\u001b[0;31mAttributeError\u001b[0m: 'tuple' object has no attribute 'append'"
     ]
    }
   ],
   "source": [
    "f(xx)"
   ]
  },
  {
   "cell_type": "code",
   "execution_count": 14,
   "metadata": {},
   "outputs": [],
   "source": [
    "def g(x):\n",
    "    if x>0:\n",
    "        return np.cos(x)\n",
    "    else:\n",
    "        return np.sin(x)\n",
    "g1=np.vectorize(g)"
   ]
  },
  {
   "cell_type": "code",
   "execution_count": 15,
   "metadata": {},
   "outputs": [
    {
     "name": "stdout",
     "output_type": "stream",
     "text": [
      "103 µs ± 3.25 µs per loop (mean ± std. dev. of 7 runs, 10000 loops each)\n"
     ]
    }
   ],
   "source": [
    "x2=np.linspace(-2*np.pi,2*np.pi,50)\n",
    "%timeit g1(x2)"
   ]
  },
  {
   "cell_type": "code",
   "execution_count": 16,
   "metadata": {},
   "outputs": [
    {
     "name": "stdout",
     "output_type": "stream",
     "text": [
      "30.2 ns ± 3.02 ns per loop (mean ± std. dev. of 7 runs, 10000000 loops each)\n"
     ]
    }
   ],
   "source": [
    "w=x2>0\n",
    "y=np.zeros_like(x2)\n",
    "y[w]=g1(x2[w])\n",
    "%timeit y"
   ]
  },
  {
   "cell_type": "code",
   "execution_count": 17,
   "metadata": {},
   "outputs": [
    {
     "name": "stdout",
     "output_type": "stream",
     "text": [
      "28.8 ns ± 0.158 ns per loop (mean ± std. dev. of 7 runs, 10000000 loops each)\n"
     ]
    }
   ],
   "source": [
    "y=np.zeros_like(x2)\n",
    "y[~w]=g1(x2[w])\n",
    "%timeit y"
   ]
  },
  {
   "cell_type": "code",
   "execution_count": 18,
   "metadata": {},
   "outputs": [
    {
     "name": "stdout",
     "output_type": "stream",
     "text": [
      "28.6 ns ± 0.185 ns per loop (mean ± std. dev. of 7 runs, 10000000 loops each)\n"
     ]
    }
   ],
   "source": [
    "y2=np.asarray([g(i) for i in x2])\n",
    "%timeit y2"
   ]
  },
  {
   "cell_type": "markdown",
   "metadata": {},
   "source": [
    "## Clases ##"
   ]
  },
  {
   "cell_type": "markdown",
   "metadata": {},
   "source": [
    "Clase vacía"
   ]
  },
  {
   "cell_type": "code",
   "execution_count": 19,
   "metadata": {},
   "outputs": [],
   "source": [
    "class estudiante():\n",
    "    pass"
   ]
  },
  {
   "cell_type": "markdown",
   "metadata": {},
   "source": [
    "Se inicializan los elementos de la clase"
   ]
  },
  {
   "cell_type": "code",
   "execution_count": 20,
   "metadata": {},
   "outputs": [],
   "source": [
    "e1=estudiante()\n",
    "e2=estudiante()\n",
    "\n",
    "estudiantes=estudiante()"
   ]
  },
  {
   "cell_type": "code",
   "execution_count": 21,
   "metadata": {},
   "outputs": [
    {
     "data": {
      "text/plain": [
       "<__main__.estudiante at 0x7f07cbd48f98>"
      ]
     },
     "execution_count": 21,
     "metadata": {},
     "output_type": "execute_result"
    }
   ],
   "source": [
    "e1"
   ]
  },
  {
   "cell_type": "markdown",
   "metadata": {},
   "source": [
    "Se le pueden asignar propiedades para acceder a ellas más adelante"
   ]
  },
  {
   "cell_type": "code",
   "execution_count": 22,
   "metadata": {},
   "outputs": [],
   "source": [
    "e1.nombre,e2.nombre='Antonio','Alma'\n",
    "e1.edad,e2.edad=22,39\n",
    "e1.auto,e2.auto=False,False"
   ]
  },
  {
   "cell_type": "code",
   "execution_count": 23,
   "metadata": {},
   "outputs": [
    {
     "data": {
      "text/plain": [
       "'Antonio'"
      ]
     },
     "execution_count": 23,
     "metadata": {},
     "output_type": "execute_result"
    }
   ],
   "source": [
    "e1.nombre"
   ]
  },
  {
   "cell_type": "code",
   "execution_count": 24,
   "metadata": {},
   "outputs": [],
   "source": [
    "estudiantes=[e1,e2]"
   ]
  },
  {
   "cell_type": "code",
   "execution_count": 25,
   "metadata": {},
   "outputs": [
    {
     "data": {
      "text/plain": [
       "[<__main__.estudiante at 0x7f07cbd48f98>,\n",
       " <__main__.estudiante at 0x7f07cbd48828>]"
      ]
     },
     "execution_count": 25,
     "metadata": {},
     "output_type": "execute_result"
    }
   ],
   "source": [
    "estudiantes"
   ]
  },
  {
   "cell_type": "code",
   "execution_count": 26,
   "metadata": {},
   "outputs": [
    {
     "data": {
      "text/plain": [
       "'Alma'"
      ]
     },
     "execution_count": 26,
     "metadata": {},
     "output_type": "execute_result"
    }
   ],
   "source": [
    "estudiantes[1].nombre"
   ]
  },
  {
   "cell_type": "code",
   "execution_count": 37,
   "metadata": {},
   "outputs": [],
   "source": [
    "class funciones:\n",
    "    \n",
    "    def __init__(self,A,saludo='Hola'):\n",
    "        self.A=A\n",
    "        self.saludo=saludo\n",
    "    \n",
    "    def g(self,x):\n",
    "\n",
    "        return self.A*np.cos(x),self.A*np.sin(x)\n",
    "        \n",
    "    def f2(self,x):\n",
    "        if x%2==0:\n",
    "            return x*x\n",
    "        else:\n",
    "            return np.log(x)\n",
    "        \n",
    "    def f(self):\n",
    "        return self.saludo"
   ]
  },
  {
   "cell_type": "code",
   "execution_count": 38,
   "metadata": {},
   "outputs": [],
   "source": [
    "x=funciones(3,'Hello')"
   ]
  },
  {
   "cell_type": "code",
   "execution_count": 39,
   "metadata": {},
   "outputs": [
    {
     "data": {
      "text/plain": [
       "'Hello'"
      ]
     },
     "execution_count": 39,
     "metadata": {},
     "output_type": "execute_result"
    }
   ],
   "source": [
    "x.f()"
   ]
  },
  {
   "cell_type": "code",
   "execution_count": 40,
   "metadata": {},
   "outputs": [
    {
     "data": {
      "text/plain": [
       "(array([ 3.        ,  2.90188459,  2.61395611,  2.15504805,  1.5551777 ,\n",
       "         0.85358276,  0.09615473, -0.6675628 , -1.38761487, -2.01690267,\n",
       "        -2.51426431, -2.84716724, -2.99383618, -2.94467747, -2.7029066 ,\n",
       "        -2.28433788, -1.71634998, -1.03609516, -0.28806908,  0.47879969,\n",
       "         1.21435003,  1.87046941,  2.40424087,  2.78075027,  2.97537004,\n",
       "         2.97537004,  2.78075027,  2.40424087,  1.87046941,  1.21435003,\n",
       "         0.47879969, -0.28806908, -1.03609516, -1.71634998, -2.28433788,\n",
       "        -2.7029066 , -2.94467747, -2.99383618, -2.84716724, -2.51426431,\n",
       "        -2.01690267, -1.38761487, -0.6675628 ,  0.09615473,  0.85358276,\n",
       "         1.5551777 ,  2.15504805,  2.61395611,  2.90188459,  3.        ]),\n",
       " array([ 7.34788079e-16,  7.60963752e-01,  1.47215266e+00,  2.08704765e+00,\n",
       "         2.56542829e+00,  2.87600356e+00,  2.99845865e+00,  2.92478374e+00,\n",
       "         2.65979792e+00,  2.22083399e+00,  1.63660470e+00,  9.45324654e-01,\n",
       "         1.92210660e-01, -5.73475886e-01, -1.30165122e+00, -1.94468519e+00,\n",
       "        -2.46051676e+00, -2.81540527e+00, -2.98613734e+00, -2.96154535e+00,\n",
       "        -2.74323787e+00, -2.34549445e+00, -1.79433159e+00, -1.12580101e+00,\n",
       "        -3.83631485e-01,  3.83631485e-01,  1.12580101e+00,  1.79433159e+00,\n",
       "         2.34549445e+00,  2.74323787e+00,  2.96154535e+00,  2.98613734e+00,\n",
       "         2.81540527e+00,  2.46051676e+00,  1.94468519e+00,  1.30165122e+00,\n",
       "         5.73475886e-01, -1.92210660e-01, -9.45324654e-01, -1.63660470e+00,\n",
       "        -2.22083399e+00, -2.65979792e+00, -2.92478374e+00, -2.99845865e+00,\n",
       "        -2.87600356e+00, -2.56542829e+00, -2.08704765e+00, -1.47215266e+00,\n",
       "        -7.60963752e-01, -7.34788079e-16]))"
      ]
     },
     "execution_count": 40,
     "metadata": {},
     "output_type": "execute_result"
    }
   ],
   "source": [
    "b=x.g(x2)\n",
    "b"
   ]
  },
  {
   "cell_type": "code",
   "execution_count": 41,
   "metadata": {},
   "outputs": [
    {
     "data": {
      "text/plain": [
       "<numpy.vectorize at 0x7f07cbe06da0>"
      ]
     },
     "execution_count": 41,
     "metadata": {},
     "output_type": "execute_result"
    }
   ],
   "source": [
    "f22=np.vectorize(x.f2)\n",
    "f22"
   ]
  },
  {
   "cell_type": "code",
   "execution_count": 42,
   "metadata": {},
   "outputs": [
    {
     "name": "stdout",
     "output_type": "stream",
     "text": [
      "[        nan         nan         nan         nan         nan         nan\n",
      "         nan         nan         nan         nan         nan         nan\n",
      "         nan         nan         nan         nan         nan         nan\n",
      "         nan         nan         nan         nan         nan         nan\n",
      "         nan -2.05394323 -0.95533094 -0.44450532 -0.10803308  0.14328135\n",
      "  0.34395204  0.51100613  0.65410697  0.77927011  0.89049575  0.99057921\n",
      "  1.08155098  1.16493259  1.24189363  1.3133526   1.38004397  1.44256433\n",
      "  1.50140483  1.55697468  1.60961841  1.65962884  1.70725688  1.75271926\n",
      "  1.79620437  1.83787707]\n"
     ]
    },
    {
     "name": "stderr",
     "output_type": "stream",
     "text": [
      "/home/antonio/miniconda3/envs/analisis_data/lib/python3.7/site-packages/ipykernel_launcher.py:15: RuntimeWarning: invalid value encountered in log\n",
      "  from ipykernel import kernelapp as app\n"
     ]
    }
   ],
   "source": [
    "a=f22(x2)\n",
    "print(a)"
   ]
  },
  {
   "cell_type": "code",
   "execution_count": 43,
   "metadata": {},
   "outputs": [
    {
     "data": {
      "text/plain": [
       "\u001b[0;31mInit signature:\u001b[0m \u001b[0mfunciones\u001b[0m\u001b[0;34m(\u001b[0m\u001b[0mA\u001b[0m\u001b[0;34m,\u001b[0m \u001b[0msaludo\u001b[0m\u001b[0;34m=\u001b[0m\u001b[0;34m'Hola'\u001b[0m\u001b[0;34m)\u001b[0m\u001b[0;34m\u001b[0m\u001b[0;34m\u001b[0m\u001b[0m\n",
       "\u001b[0;31mDocstring:\u001b[0m      <no docstring>\n",
       "\u001b[0;31mType:\u001b[0m           type\n",
       "\u001b[0;31mSubclasses:\u001b[0m     \n"
      ]
     },
     "metadata": {},
     "output_type": "display_data"
    }
   ],
   "source": [
    "funciones?"
   ]
  },
  {
   "cell_type": "markdown",
   "metadata": {},
   "source": [
    "## Lectura de archivos y acceso a bases de datos ##"
   ]
  },
  {
   "cell_type": "code",
   "execution_count": 45,
   "metadata": {},
   "outputs": [
    {
     "name": "stdout",
     "output_type": "stream",
     "text": [
      "/home/antonio/Documentos/analisisdat/da2019-Dominguezha/Semana2/Trabajo_clase\n"
     ]
    }
   ],
   "source": [
    "!pwd"
   ]
  },
  {
   "cell_type": "code",
   "execution_count": 46,
   "metadata": {},
   "outputs": [
    {
     "name": "stdout",
     "output_type": "stream",
     "text": [
      "/home/antonio/Documentos/analisisdat/da2019-Dominguezha/Semana2\n"
     ]
    }
   ],
   "source": [
    "cd /home/antonio/Documentos/analisisdat/da2019-Dominguezha/Semana2"
   ]
  },
  {
   "cell_type": "code",
   "execution_count": 47,
   "metadata": {},
   "outputs": [
    {
     "name": "stdout",
     "output_type": "stream",
     "text": [
      "/home/antonio/Documentos/analisisdat/da2019-Dominguezha/Semana2\n"
     ]
    }
   ],
   "source": [
    "!pwd"
   ]
  },
  {
   "cell_type": "code",
   "execution_count": 60,
   "metadata": {},
   "outputs": [],
   "source": [
    "sunspots=np.loadtxt('sunspots.txt',dtype={'names':('año','numero'),'formats':('i4','f8')},unpack=True)"
   ]
  },
  {
   "cell_type": "code",
   "execution_count": 66,
   "metadata": {},
   "outputs": [
    {
     "data": {
      "text/plain": [
       "[array([1701, 1702, 1703, 1704, 1705, 1706, 1707, 1708, 1709, 1710, 1711,\n",
       "        1712, 1713, 1714, 1715, 1716, 1717, 1718, 1719, 1720, 1721, 1722,\n",
       "        1723, 1724, 1725, 1726, 1727, 1728, 1729, 1730, 1731, 1732, 1733,\n",
       "        1734, 1735, 1736, 1737, 1738, 1739, 1740, 1741, 1742, 1743, 1744,\n",
       "        1745, 1746, 1747, 1748, 1749, 1750, 1751, 1752, 1753, 1754, 1755,\n",
       "        1756, 1757, 1758, 1759, 1760], dtype=int32),\n",
       " array([ 11. ,  16. ,  23. ,  36. ,  58. ,  29. ,  20. ,  10. ,   8. ,\n",
       "          3. ,   0. ,   0. ,   2. ,  11. ,  27. ,  47. ,  63. ,  60. ,\n",
       "         39. ,  28. ,  26. ,  22. ,  11. ,  21. ,  40. ,  78. , 122. ,\n",
       "        103. ,  73. ,  47. ,  35. ,  11. ,   5. ,  16. ,  34. ,  70. ,\n",
       "         81. , 111. , 101. ,  73. ,  40. ,  20. ,  16. ,   5. ,  11. ,\n",
       "         22. ,  40. ,  60. ,  80.9,  83.4,  47.7,  47.8,  30.7,  12.2,\n",
       "          9.6,  10.2,  32.4,  47.6,  54. ,  62.9])]"
      ]
     },
     "execution_count": 66,
     "metadata": {},
     "output_type": "execute_result"
    }
   ],
   "source": [
    "sunspots"
   ]
  },
  {
   "cell_type": "code",
   "execution_count": null,
   "metadata": {},
   "outputs": [],
   "source": [
    "sunspots[]"
   ]
  },
  {
   "cell_type": "code",
   "execution_count": 68,
   "metadata": {},
   "outputs": [],
   "source": [
    "#np.genfromtxt?"
   ]
  },
  {
   "cell_type": "markdown",
   "metadata": {},
   "source": [
    "# Tarea # \n",
    "Crear un solo archivo con los datos de sunspots que solo tenga una columna de años y una de valores"
   ]
  },
  {
   "cell_type": "code",
   "execution_count": 54,
   "metadata": {},
   "outputs": [
    {
     "data": {
      "text/plain": [
       "array([1701., 1702., 1703., 1704., 1705., 1706., 1707., 1708., 1709.,\n",
       "       1710., 1711., 1712., 1713., 1714., 1715., 1716., 1717., 1718.,\n",
       "       1719., 1720., 1721., 1722., 1723., 1724., 1725., 1726., 1727.,\n",
       "       1728., 1729., 1730., 1731., 1732., 1733., 1734., 1735., 1736.,\n",
       "       1737., 1738., 1739., 1740., 1741., 1742., 1743., 1744., 1745.,\n",
       "       1746., 1747., 1748., 1749., 1750., 1751., 1752., 1753., 1754.,\n",
       "       1755., 1756., 1757., 1758., 1759., 1760.])"
      ]
     },
     "execution_count": 54,
     "metadata": {},
     "output_type": "execute_result"
    }
   ],
   "source": [
    "sunspots[0]"
   ]
  },
  {
   "cell_type": "code",
   "execution_count": 55,
   "metadata": {},
   "outputs": [
    {
     "data": {
      "text/plain": [
       "array([ 11. ,  16. ,  23. ,  36. ,  58. ,  29. ,  20. ,  10. ,   8. ,\n",
       "         3. ,   0. ,   0. ,   2. ,  11. ,  27. ,  47. ,  63. ,  60. ,\n",
       "        39. ,  28. ,  26. ,  22. ,  11. ,  21. ,  40. ,  78. , 122. ,\n",
       "       103. ,  73. ,  47. ,  35. ,  11. ,   5. ,  16. ,  34. ,  70. ,\n",
       "        81. , 111. , 101. ,  73. ,  40. ,  20. ,  16. ,   5. ,  11. ,\n",
       "        22. ,  40. ,  60. ,  80.9,  83.4,  47.7,  47.8,  30.7,  12.2,\n",
       "         9.6,  10.2,  32.4,  47.6,  54. ,  62.9])"
      ]
     },
     "execution_count": 55,
     "metadata": {},
     "output_type": "execute_result"
    }
   ],
   "source": [
    "sunspots[1]"
   ]
  },
  {
   "cell_type": "code",
   "execution_count": 57,
   "metadata": {},
   "outputs": [
    {
     "data": {
      "text/plain": [
       "[<matplotlib.lines.Line2D at 0x7f07c9f0a5f8>]"
      ]
     },
     "execution_count": 57,
     "metadata": {},
     "output_type": "execute_result"
    },
    {
     "data": {
      "image/png": "[encoded data removed]",
      "text/plain": [
       "<Figure size 432x288 with 1 Axes>"
      ]
     },
     "metadata": {
      "needs_background": "light"
     },
     "output_type": "display_data"
    }
   ],
   "source": [
    "plt.plot(sunspots[0],sunspots[1])\n",
    "plt.plot(sunspots[2],sunspots[3])"
   ]
  },
  {
   "cell_type": "markdown",
   "metadata": {},
   "source": [
    "Un error al cargar los cambios..."
   ]
  },
  {
   "cell_type": "code",
   "execution_count": 69,
   "metadata": {},
   "outputs": [
    {
     "name": "stdout",
     "output_type": "stream",
     "text": [
      "/home/antonio/Documentos/analisisdat/da2019-Dominguezha/Semana2\n"
     ]
    }
   ],
   "source": [
    "!pwd"
   ]
  },
  {
   "cell_type": "code",
   "execution_count": 70,
   "metadata": {},
   "outputs": [],
   "source": [
    "!cd Semana2"
   ]
  },
  {
   "cell_type": "code",
   "execution_count": 71,
   "metadata": {},
   "outputs": [
    {
     "name": "stdout",
     "output_type": "stream",
     "text": [
      "/home/antonio/Documentos/analisisdat/da2019-Dominguezha/Semana2\n"
     ]
    }
   ],
   "source": [
    "!pwd"
   ]
  },
  {
   "cell_type": "code",
   "execution_count": 72,
   "metadata": {},
   "outputs": [
    {
     "name": "stdout",
     "output_type": "stream",
     "text": [
      "/home/antonio/Documentos/analisisdat/da2019-Dominguezha/Semana2/Semana2\n"
     ]
    }
   ],
   "source": [
    "cd /home/antonio/Documentos/analisisdat/da2019-Dominguezha/Semana2/Semana2"
   ]
  },
  {
   "cell_type": "code",
   "execution_count": 73,
   "metadata": {},
   "outputs": [
    {
     "name": "stdout",
     "output_type": "stream",
     "text": [
      "Readme.md  sunspots2.txt  sunspots.txt\n"
     ]
    }
   ],
   "source": [
    "!ls"
   ]
  },
  {
   "cell_type": "code",
   "execution_count": 79,
   "metadata": {},
   "outputs": [],
   "source": [
    "ynumber=np.loadtxt('sunspots2.txt')"
   ]
  },
  {
   "cell_type": "code",
   "execution_count": 83,
   "metadata": {},
   "outputs": [],
   "source": [
    "np.save('sunspots',(yearnumber))"
   ]
  },
  {
   "cell_type": "code",
   "execution_count": 84,
   "metadata": {},
   "outputs": [
    {
     "name": "stdout",
     "output_type": "stream",
     "text": [
      "Readme.md  sunspots2.txt  sunspots.npy\tsunspots.txt\n"
     ]
    }
   ],
   "source": [
    "!ls"
   ]
  },
  {
   "cell_type": "markdown",
   "metadata": {},
   "source": [
    "## Usando libreria pandas ##"
   ]
  },
  {
   "cell_type": "code",
   "execution_count": 137,
   "metadata": {},
   "outputs": [],
   "source": [
    "import pandas as pd\n",
    "import xlrd\n",
    "import lxml\n",
    "import requests\n",
    "import os"
   ]
  },
  {
   "cell_type": "code",
   "execution_count": 96,
   "metadata": {},
   "outputs": [
    {
     "name": "stdout",
     "output_type": "stream",
     "text": [
      "/home/antonio/Documentos/analisisdat/da2019-Dominguezha/Semana2\n"
     ]
    }
   ],
   "source": [
    "cd /home/antonio/Documentos/analisisdat/da2019-Dominguezha/Semana2"
   ]
  },
  {
   "cell_type": "code",
   "execution_count": 97,
   "metadata": {},
   "outputs": [
    {
     "name": "stdout",
     "output_type": "stream",
     "text": [
      "/home/antonio/Documentos/analisisdat/da2019-Dominguezha/Semana2\n"
     ]
    }
   ],
   "source": [
    "!pwd"
   ]
  },
  {
   "cell_type": "code",
   "execution_count": 98,
   "metadata": {},
   "outputs": [
    {
     "name": "stdout",
     "output_type": "stream",
     "text": [
      "Readme.md  Semana1  sunspots2.txt  sunspots.txt\t\t Trabajo_clase\n",
      "README.md  Semana2  sunspots.npy   tabulador_pe2019.xls\n"
     ]
    }
   ],
   "source": [
    "!ls"
   ]
  },
  {
   "cell_type": "code",
   "execution_count": 102,
   "metadata": {},
   "outputs": [],
   "source": [
    "tabulador=pd.read_excel('tabulador_pe2019.xls',header=9)"
   ]
  },
  {
   "cell_type": "code",
   "execution_count": 109,
   "metadata": {},
   "outputs": [
    {
     "data": {
      "text/plain": [
       "0     22\n",
       "1     20\n",
       "2     19\n",
       "3     19\n",
       "4     18\n",
       "      ..\n",
       "74     1\n",
       "75     1\n",
       "76     1\n",
       "77     1\n",
       "78     1\n",
       "Name: NIVEL, Length: 79, dtype: int64"
      ]
     },
     "execution_count": 109,
     "metadata": {},
     "output_type": "execute_result"
    }
   ],
   "source": [
    "tabulador['NIVEL']"
   ]
  },
  {
   "cell_type": "code",
   "execution_count": 110,
   "metadata": {},
   "outputs": [
    {
     "data": {
      "text/plain": [
       "Index(['NIVEL', 'TIPO', 'PUESTO', 'SUELDO BASE', 'CUOTAS SEGURIDAD SOCIAL',\n",
       "       'PREVISIÓN SOCIAL', 'AYUDA X SERVICIOS', 'APOYO FAMILIAR',\n",
       "       'GRATIFICACIÓN QUINCENAL', 'SUELDO MENSUAL BRUTO', 'IMPTO MENSUAL',\n",
       "       'ISSEG', 'ISSSTE', 'SUELDO MENSUAL NETO', 'PRIMA VACACIONAL',\n",
       "       'AGUINALDO'],\n",
       "      dtype='object')"
      ]
     },
     "execution_count": 110,
     "metadata": {},
     "output_type": "execute_result"
    }
   ],
   "source": [
    "tabulador.keys()"
   ]
  },
  {
   "cell_type": "code",
   "execution_count": 111,
   "metadata": {},
   "outputs": [
    {
     "data": {
      "text/plain": [
       "0     59804.327930\n",
       "1     49025.945517\n",
       "2     40685.951590\n",
       "3     40685.951590\n",
       "4     37083.708634\n",
       "          ...     \n",
       "74     3374.277535\n",
       "75     3080.400000\n",
       "76     3080.400000\n",
       "77     3080.400000\n",
       "78     3080.400000\n",
       "Name: SUELDO BASE, Length: 79, dtype: float64"
      ]
     },
     "execution_count": 111,
     "metadata": {},
     "output_type": "execute_result"
    }
   ],
   "source": [
    "tabulador['SUELDO BASE']"
   ]
  },
  {
   "cell_type": "code",
   "execution_count": 114,
   "metadata": {},
   "outputs": [
    {
     "data": {
      "text/html": [
       "<div>\n",
       "<style scoped>\n",
       "    .dataframe tbody tr th:only-of-type {\n",
       "        vertical-align: middle;\n",
       "    }\n",
       "\n",
       "    .dataframe tbody tr th {\n",
       "        vertical-align: top;\n",
       "    }\n",
       "\n",
       "    .dataframe thead th {\n",
       "        text-align: right;\n",
       "    }\n",
       "</style>\n",
       "<table border=\"1\" class=\"dataframe\">\n",
       "  <thead>\n",
       "    <tr style=\"text-align: right;\">\n",
       "      <th></th>\n",
       "      <th>NIVEL</th>\n",
       "      <th>TIPO</th>\n",
       "      <th>PUESTO</th>\n",
       "      <th>SUELDO BASE</th>\n",
       "      <th>CUOTAS SEGURIDAD SOCIAL</th>\n",
       "      <th>PREVISIÓN SOCIAL</th>\n",
       "      <th>AYUDA X SERVICIOS</th>\n",
       "      <th>APOYO FAMILIAR</th>\n",
       "      <th>GRATIFICACIÓN QUINCENAL</th>\n",
       "      <th>SUELDO MENSUAL BRUTO</th>\n",
       "      <th>IMPTO MENSUAL</th>\n",
       "      <th>ISSEG</th>\n",
       "      <th>ISSSTE</th>\n",
       "      <th>SUELDO MENSUAL NETO</th>\n",
       "      <th>PRIMA VACACIONAL</th>\n",
       "      <th>AGUINALDO</th>\n",
       "    </tr>\n",
       "  </thead>\n",
       "  <tbody>\n",
       "    <tr>\n",
       "      <th>33</th>\n",
       "      <td>9</td>\n",
       "      <td>A</td>\n",
       "      <td>SUBINSPECTOR/A A</td>\n",
       "      <td>9833.843465</td>\n",
       "      <td>1917.599476</td>\n",
       "      <td>1913.1</td>\n",
       "      <td>1175</td>\n",
       "      <td>12300.961355</td>\n",
       "      <td>7598.34</td>\n",
       "      <td>34738.844296</td>\n",
       "      <td>5902.907118</td>\n",
       "      <td>1622.584172</td>\n",
       "      <td>295.015304</td>\n",
       "      <td>26918.337702</td>\n",
       "      <td>10 Días por Año</td>\n",
       "      <td>45 Días por Año</td>\n",
       "    </tr>\n",
       "    <tr>\n",
       "      <th>34</th>\n",
       "      <td>9</td>\n",
       "      <td>NaN</td>\n",
       "      <td>JEFE/A DE DEPARTAMENTO B</td>\n",
       "      <td>9833.843465</td>\n",
       "      <td>1917.599476</td>\n",
       "      <td>1913.1</td>\n",
       "      <td>1175</td>\n",
       "      <td>8611.753511</td>\n",
       "      <td>7598.34</td>\n",
       "      <td>31049.636451</td>\n",
       "      <td>5035.205433</td>\n",
       "      <td>1622.584172</td>\n",
       "      <td>295.015304</td>\n",
       "      <td>24096.831543</td>\n",
       "      <td>10 Días por Año</td>\n",
       "      <td>45 Días por Año</td>\n",
       "    </tr>\n",
       "    <tr>\n",
       "      <th>35</th>\n",
       "      <td>9</td>\n",
       "      <td>NaN</td>\n",
       "      <td>ANALISTA DE PROYECTOS B</td>\n",
       "      <td>9833.843465</td>\n",
       "      <td>1917.599476</td>\n",
       "      <td>1913.1</td>\n",
       "      <td>1175</td>\n",
       "      <td>8611.753511</td>\n",
       "      <td>7598.34</td>\n",
       "      <td>31049.636451</td>\n",
       "      <td>5035.205433</td>\n",
       "      <td>1622.584172</td>\n",
       "      <td>295.015304</td>\n",
       "      <td>24096.831543</td>\n",
       "      <td>10 Días por Año</td>\n",
       "      <td>45 Días por Año</td>\n",
       "    </tr>\n",
       "    <tr>\n",
       "      <th>36</th>\n",
       "      <td>9</td>\n",
       "      <td>NaN</td>\n",
       "      <td>PROFESIONAL ESPECIALIZADO/A A</td>\n",
       "      <td>9833.843465</td>\n",
       "      <td>1917.599476</td>\n",
       "      <td>1913.1</td>\n",
       "      <td>1175</td>\n",
       "      <td>8611.753511</td>\n",
       "      <td>7598.34</td>\n",
       "      <td>31049.636451</td>\n",
       "      <td>5035.205433</td>\n",
       "      <td>1622.584172</td>\n",
       "      <td>295.015304</td>\n",
       "      <td>24096.831543</td>\n",
       "      <td>10 Días por Año</td>\n",
       "      <td>45 Días por Año</td>\n",
       "    </tr>\n",
       "    <tr>\n",
       "      <th>37</th>\n",
       "      <td>8</td>\n",
       "      <td>A</td>\n",
       "      <td>OFICIAL A</td>\n",
       "      <td>9458.572628</td>\n",
       "      <td>1844.421662</td>\n",
       "      <td>1913.1</td>\n",
       "      <td>1012</td>\n",
       "      <td>10523.811864</td>\n",
       "      <td>6545.82</td>\n",
       "      <td>31297.726155</td>\n",
       "      <td>5110.767553</td>\n",
       "      <td>1560.664484</td>\n",
       "      <td>283.757179</td>\n",
       "      <td>24342.536940</td>\n",
       "      <td>10 Días por Año</td>\n",
       "      <td>45 Días por Año</td>\n",
       "    </tr>\n",
       "    <tr>\n",
       "      <th>38</th>\n",
       "      <td>8</td>\n",
       "      <td>NaN</td>\n",
       "      <td>ESPECIALISTA TECNICO/A A</td>\n",
       "      <td>9458.572628</td>\n",
       "      <td>1844.421662</td>\n",
       "      <td>1913.1</td>\n",
       "      <td>1012</td>\n",
       "      <td>7200.045078</td>\n",
       "      <td>6545.82</td>\n",
       "      <td>27973.959369</td>\n",
       "      <td>4329.017605</td>\n",
       "      <td>1560.664484</td>\n",
       "      <td>283.757179</td>\n",
       "      <td>21800.520102</td>\n",
       "      <td>10 Días por Año</td>\n",
       "      <td>45 Días por Año</td>\n",
       "    </tr>\n",
       "    <tr>\n",
       "      <th>39</th>\n",
       "      <td>8</td>\n",
       "      <td>NaN</td>\n",
       "      <td>JEFE/A DE DEPARTAMENTO C</td>\n",
       "      <td>9458.572628</td>\n",
       "      <td>1844.421662</td>\n",
       "      <td>1913.1</td>\n",
       "      <td>1012</td>\n",
       "      <td>7200.045078</td>\n",
       "      <td>6545.82</td>\n",
       "      <td>27973.959369</td>\n",
       "      <td>4329.017605</td>\n",
       "      <td>1560.664484</td>\n",
       "      <td>283.757179</td>\n",
       "      <td>21800.520102</td>\n",
       "      <td>10 Días por Año</td>\n",
       "      <td>45 Días por Año</td>\n",
       "    </tr>\n",
       "    <tr>\n",
       "      <th>40</th>\n",
       "      <td>8</td>\n",
       "      <td>NaN</td>\n",
       "      <td>ANALISTA DE PROYECTOS C</td>\n",
       "      <td>9458.572628</td>\n",
       "      <td>1844.421662</td>\n",
       "      <td>1913.1</td>\n",
       "      <td>1012</td>\n",
       "      <td>7200.045078</td>\n",
       "      <td>6545.82</td>\n",
       "      <td>27973.959369</td>\n",
       "      <td>4329.017605</td>\n",
       "      <td>1560.664484</td>\n",
       "      <td>283.757179</td>\n",
       "      <td>21800.520102</td>\n",
       "      <td>10 Días por Año</td>\n",
       "      <td>45 Días por Año</td>\n",
       "    </tr>\n",
       "    <tr>\n",
       "      <th>41</th>\n",
       "      <td>7</td>\n",
       "      <td>A</td>\n",
       "      <td>POLICIA PRIMERO A</td>\n",
       "      <td>8490.043958</td>\n",
       "      <td>1655.558572</td>\n",
       "      <td>1913.1</td>\n",
       "      <td>925</td>\n",
       "      <td>9323.401986</td>\n",
       "      <td>5841.10</td>\n",
       "      <td>28148.204516</td>\n",
       "      <td>4414.420662</td>\n",
       "      <td>1400.857253</td>\n",
       "      <td>254.701319</td>\n",
       "      <td>22078.225282</td>\n",
       "      <td>10 Días por Año</td>\n",
       "      <td>45 Días por Año</td>\n",
       "    </tr>\n",
       "    <tr>\n",
       "      <th>42</th>\n",
       "      <td>7</td>\n",
       "      <td>A</td>\n",
       "      <td>SUBOFICIAL A</td>\n",
       "      <td>8490.043958</td>\n",
       "      <td>1655.558572</td>\n",
       "      <td>1913.1</td>\n",
       "      <td>925</td>\n",
       "      <td>9323.401986</td>\n",
       "      <td>5841.10</td>\n",
       "      <td>28148.204516</td>\n",
       "      <td>4414.420662</td>\n",
       "      <td>1400.857253</td>\n",
       "      <td>254.701319</td>\n",
       "      <td>22078.225282</td>\n",
       "      <td>10 Días por Año</td>\n",
       "      <td>45 Días por Año</td>\n",
       "    </tr>\n",
       "    <tr>\n",
       "      <th>43</th>\n",
       "      <td>7</td>\n",
       "      <td>NaN</td>\n",
       "      <td>ESPECIALISTA TECNICO/A B</td>\n",
       "      <td>8490.043958</td>\n",
       "      <td>1655.558572</td>\n",
       "      <td>1913.1</td>\n",
       "      <td>925</td>\n",
       "      <td>6334.109193</td>\n",
       "      <td>5841.10</td>\n",
       "      <td>25158.911722</td>\n",
       "      <td>3726.860913</td>\n",
       "      <td>1400.857253</td>\n",
       "      <td>254.701319</td>\n",
       "      <td>19776.492237</td>\n",
       "      <td>10 Días por Año</td>\n",
       "      <td>45 Días por Año</td>\n",
       "    </tr>\n",
       "    <tr>\n",
       "      <th>44</th>\n",
       "      <td>7</td>\n",
       "      <td>NaN</td>\n",
       "      <td>PROFESIONAL ESPECIALIZADO/A B</td>\n",
       "      <td>8490.043958</td>\n",
       "      <td>1655.558572</td>\n",
       "      <td>1913.1</td>\n",
       "      <td>925</td>\n",
       "      <td>6334.109193</td>\n",
       "      <td>5841.10</td>\n",
       "      <td>25158.911722</td>\n",
       "      <td>3726.860913</td>\n",
       "      <td>1400.857253</td>\n",
       "      <td>254.701319</td>\n",
       "      <td>19776.492237</td>\n",
       "      <td>10 Días por Año</td>\n",
       "      <td>45 Días por Año</td>\n",
       "    </tr>\n",
       "    <tr>\n",
       "      <th>45</th>\n",
       "      <td>7</td>\n",
       "      <td>NaN</td>\n",
       "      <td>JEFE/A DE DEPARTAMENTO D</td>\n",
       "      <td>8490.043958</td>\n",
       "      <td>1655.558572</td>\n",
       "      <td>1913.1</td>\n",
       "      <td>925</td>\n",
       "      <td>6334.109193</td>\n",
       "      <td>5841.10</td>\n",
       "      <td>25158.911722</td>\n",
       "      <td>3726.860913</td>\n",
       "      <td>1400.857253</td>\n",
       "      <td>254.701319</td>\n",
       "      <td>19776.492237</td>\n",
       "      <td>10 Días por Año</td>\n",
       "      <td>45 Días por Año</td>\n",
       "    </tr>\n",
       "    <tr>\n",
       "      <th>46</th>\n",
       "      <td>6</td>\n",
       "      <td>A</td>\n",
       "      <td>POLICIA SEGUNDO A</td>\n",
       "      <td>6999.168402</td>\n",
       "      <td>1364.837838</td>\n",
       "      <td>1913.1</td>\n",
       "      <td>863</td>\n",
       "      <td>7807.526840</td>\n",
       "      <td>5026.42</td>\n",
       "      <td>23974.053080</td>\n",
       "      <td>3535.873056</td>\n",
       "      <td>1154.862786</td>\n",
       "      <td>209.975052</td>\n",
       "      <td>19073.342186</td>\n",
       "      <td>10 Días por Año</td>\n",
       "      <td>45 Días por Año</td>\n",
       "    </tr>\n",
       "    <tr>\n",
       "      <th>47</th>\n",
       "      <td>6</td>\n",
       "      <td>NaN</td>\n",
       "      <td>ESPECIALISTA ADMINISTRATIVO/A A</td>\n",
       "      <td>6999.168402</td>\n",
       "      <td>1364.837838</td>\n",
       "      <td>1913.1</td>\n",
       "      <td>863</td>\n",
       "      <td>5469.561333</td>\n",
       "      <td>5026.42</td>\n",
       "      <td>21636.087573</td>\n",
       "      <td>3036.483623</td>\n",
       "      <td>1154.862786</td>\n",
       "      <td>209.975052</td>\n",
       "      <td>17234.766111</td>\n",
       "      <td>10 Días por Año</td>\n",
       "      <td>45 Días por Año</td>\n",
       "    </tr>\n",
       "    <tr>\n",
       "      <th>48</th>\n",
       "      <td>6</td>\n",
       "      <td>NaN</td>\n",
       "      <td>JEFE/A DE UNIDAD A</td>\n",
       "      <td>6999.168402</td>\n",
       "      <td>1364.837838</td>\n",
       "      <td>1913.1</td>\n",
       "      <td>863</td>\n",
       "      <td>5469.561333</td>\n",
       "      <td>5026.42</td>\n",
       "      <td>21636.087573</td>\n",
       "      <td>3036.483623</td>\n",
       "      <td>1154.862786</td>\n",
       "      <td>209.975052</td>\n",
       "      <td>17234.766111</td>\n",
       "      <td>10 Días por Año</td>\n",
       "      <td>45 Días por Año</td>\n",
       "    </tr>\n",
       "    <tr>\n",
       "      <th>49</th>\n",
       "      <td>6</td>\n",
       "      <td>NaN</td>\n",
       "      <td>ESPECIALISTA TECNICO/A C</td>\n",
       "      <td>6999.168402</td>\n",
       "      <td>1364.837838</td>\n",
       "      <td>1913.1</td>\n",
       "      <td>863</td>\n",
       "      <td>5469.561333</td>\n",
       "      <td>5026.42</td>\n",
       "      <td>21636.087573</td>\n",
       "      <td>3036.483623</td>\n",
       "      <td>1154.862786</td>\n",
       "      <td>209.975052</td>\n",
       "      <td>17234.766111</td>\n",
       "      <td>10 Días por Año</td>\n",
       "      <td>45 Días por Año</td>\n",
       "    </tr>\n",
       "    <tr>\n",
       "      <th>50</th>\n",
       "      <td>6</td>\n",
       "      <td>NaN</td>\n",
       "      <td>ADMINISTRADOR/A COMERCIAL A</td>\n",
       "      <td>6999.168402</td>\n",
       "      <td>1364.837838</td>\n",
       "      <td>1913.1</td>\n",
       "      <td>863</td>\n",
       "      <td>5469.561333</td>\n",
       "      <td>5026.42</td>\n",
       "      <td>21636.087573</td>\n",
       "      <td>3036.483623</td>\n",
       "      <td>1154.862786</td>\n",
       "      <td>209.975052</td>\n",
       "      <td>17234.766111</td>\n",
       "      <td>10 Días por Año</td>\n",
       "      <td>45 Días por Año</td>\n",
       "    </tr>\n",
       "    <tr>\n",
       "      <th>51</th>\n",
       "      <td>5</td>\n",
       "      <td>A</td>\n",
       "      <td>POLICIA TERCERO A</td>\n",
       "      <td>5298.129047</td>\n",
       "      <td>1033.135164</td>\n",
       "      <td>1913.1</td>\n",
       "      <td>785</td>\n",
       "      <td>6453.270563</td>\n",
       "      <td>2968.00</td>\n",
       "      <td>18450.634774</td>\n",
       "      <td>2426.922597</td>\n",
       "      <td>874.191293</td>\n",
       "      <td>158.943871</td>\n",
       "      <td>14990.577013</td>\n",
       "      <td>10 Días por Año</td>\n",
       "      <td>45 Días por Año</td>\n",
       "    </tr>\n",
       "    <tr>\n",
       "      <th>52</th>\n",
       "      <td>5</td>\n",
       "      <td>NaN</td>\n",
       "      <td>ESPECIALISTA ADMINISTRATIVO/A B</td>\n",
       "      <td>5298.129047</td>\n",
       "      <td>1033.135164</td>\n",
       "      <td>1913.1</td>\n",
       "      <td>785</td>\n",
       "      <td>4653.952461</td>\n",
       "      <td>2968.00</td>\n",
       "      <td>16651.316672</td>\n",
       "      <td>2042.588250</td>\n",
       "      <td>874.191293</td>\n",
       "      <td>158.943871</td>\n",
       "      <td>13575.593258</td>\n",
       "      <td>10 Días por Año</td>\n",
       "      <td>45 Días por Año</td>\n",
       "    </tr>\n",
       "    <tr>\n",
       "      <th>53</th>\n",
       "      <td>5</td>\n",
       "      <td>NaN</td>\n",
       "      <td>ESPECIALISTA TECNICO/A D</td>\n",
       "      <td>5298.129047</td>\n",
       "      <td>1033.135164</td>\n",
       "      <td>1913.1</td>\n",
       "      <td>785</td>\n",
       "      <td>4653.952461</td>\n",
       "      <td>2968.00</td>\n",
       "      <td>16651.316672</td>\n",
       "      <td>2042.588250</td>\n",
       "      <td>874.191293</td>\n",
       "      <td>158.943871</td>\n",
       "      <td>13575.593258</td>\n",
       "      <td>10 Días por Año</td>\n",
       "      <td>45 Días por Año</td>\n",
       "    </tr>\n",
       "    <tr>\n",
       "      <th>54</th>\n",
       "      <td>5</td>\n",
       "      <td>NaN</td>\n",
       "      <td>JEFE/A DE UNIDAD B</td>\n",
       "      <td>5298.129047</td>\n",
       "      <td>1033.135164</td>\n",
       "      <td>1913.1</td>\n",
       "      <td>785</td>\n",
       "      <td>4653.952461</td>\n",
       "      <td>2968.00</td>\n",
       "      <td>16651.316672</td>\n",
       "      <td>2042.588250</td>\n",
       "      <td>874.191293</td>\n",
       "      <td>158.943871</td>\n",
       "      <td>13575.593258</td>\n",
       "      <td>10 Días por Año</td>\n",
       "      <td>45 Días por Año</td>\n",
       "    </tr>\n",
       "    <tr>\n",
       "      <th>55</th>\n",
       "      <td>5</td>\n",
       "      <td>NaN</td>\n",
       "      <td>ADMINISTRADOR/A COMERCIAL B</td>\n",
       "      <td>5298.129047</td>\n",
       "      <td>1033.135164</td>\n",
       "      <td>1913.1</td>\n",
       "      <td>785</td>\n",
       "      <td>4653.952461</td>\n",
       "      <td>2968.00</td>\n",
       "      <td>16651.316672</td>\n",
       "      <td>2042.588250</td>\n",
       "      <td>874.191293</td>\n",
       "      <td>158.943871</td>\n",
       "      <td>13575.593258</td>\n",
       "      <td>10 Días por Año</td>\n",
       "      <td>45 Días por Año</td>\n",
       "    </tr>\n",
       "    <tr>\n",
       "      <th>56</th>\n",
       "      <td>4</td>\n",
       "      <td>A</td>\n",
       "      <td>POLICIA</td>\n",
       "      <td>4592.879978</td>\n",
       "      <td>895.611596</td>\n",
       "      <td>1913.1</td>\n",
       "      <td>450</td>\n",
       "      <td>6560.085291</td>\n",
       "      <td>936.54</td>\n",
       "      <td>15348.216866</td>\n",
       "      <td>1793.621166</td>\n",
       "      <td>757.825196</td>\n",
       "      <td>137.786399</td>\n",
       "      <td>12658.984104</td>\n",
       "      <td>10 Días por Año</td>\n",
       "      <td>45 Días por Año</td>\n",
       "    </tr>\n",
       "    <tr>\n",
       "      <th>57</th>\n",
       "      <td>4</td>\n",
       "      <td>NaN</td>\n",
       "      <td>ESPECIALISTA TECNICO/A E</td>\n",
       "      <td>4564.185105</td>\n",
       "      <td>890.016096</td>\n",
       "      <td>1913.1</td>\n",
       "      <td>450</td>\n",
       "      <td>3599.725827</td>\n",
       "      <td>936.54</td>\n",
       "      <td>12353.567028</td>\n",
       "      <td>1173.958791</td>\n",
       "      <td>753.090542</td>\n",
       "      <td>136.925553</td>\n",
       "      <td>10289.592141</td>\n",
       "      <td>10 Días por Año</td>\n",
       "      <td>45 Días por Año</td>\n",
       "    </tr>\n",
       "    <tr>\n",
       "      <th>58</th>\n",
       "      <td>4</td>\n",
       "      <td>NaN</td>\n",
       "      <td>ESPECIALISTA ADMINISTRATIVO/A C</td>\n",
       "      <td>4564.185105</td>\n",
       "      <td>890.016096</td>\n",
       "      <td>1913.1</td>\n",
       "      <td>450</td>\n",
       "      <td>3599.725827</td>\n",
       "      <td>936.54</td>\n",
       "      <td>12353.567028</td>\n",
       "      <td>1173.958791</td>\n",
       "      <td>753.090542</td>\n",
       "      <td>136.925553</td>\n",
       "      <td>10289.592141</td>\n",
       "      <td>10 Días por Año</td>\n",
       "      <td>45 Días por Año</td>\n",
       "    </tr>\n",
       "    <tr>\n",
       "      <th>59</th>\n",
       "      <td>4</td>\n",
       "      <td>NaN</td>\n",
       "      <td>ESPECIALISTA DE SERVICIOS</td>\n",
       "      <td>4564.185105</td>\n",
       "      <td>890.016096</td>\n",
       "      <td>1913.1</td>\n",
       "      <td>450</td>\n",
       "      <td>3599.725827</td>\n",
       "      <td>936.54</td>\n",
       "      <td>12353.567028</td>\n",
       "      <td>1173.958791</td>\n",
       "      <td>753.090542</td>\n",
       "      <td>136.925553</td>\n",
       "      <td>10289.592141</td>\n",
       "      <td>10 Días por Año</td>\n",
       "      <td>45 Días por Año</td>\n",
       "    </tr>\n",
       "    <tr>\n",
       "      <th>60</th>\n",
       "      <td>4</td>\n",
       "      <td>NaN</td>\n",
       "      <td>ADMINISTRADOR/A COMERCIAL C</td>\n",
       "      <td>4564.185105</td>\n",
       "      <td>890.016096</td>\n",
       "      <td>1913.1</td>\n",
       "      <td>450</td>\n",
       "      <td>3599.725827</td>\n",
       "      <td>936.54</td>\n",
       "      <td>12353.567028</td>\n",
       "      <td>1173.958791</td>\n",
       "      <td>753.090542</td>\n",
       "      <td>136.925553</td>\n",
       "      <td>10289.592141</td>\n",
       "      <td>10 Días por Año</td>\n",
       "      <td>45 Días por Año</td>\n",
       "    </tr>\n",
       "    <tr>\n",
       "      <th>61</th>\n",
       "      <td>3</td>\n",
       "      <td>NaN</td>\n",
       "      <td>OPERADOR/A COMERCIAL A</td>\n",
       "      <td>4129.411442</td>\n",
       "      <td>805.235231</td>\n",
       "      <td>1913.1</td>\n",
       "      <td>450</td>\n",
       "      <td>3347.786733</td>\n",
       "      <td>795.03</td>\n",
       "      <td>11440.563407</td>\n",
       "      <td>1025.541273</td>\n",
       "      <td>681.352888</td>\n",
       "      <td>123.882343</td>\n",
       "      <td>9609.786902</td>\n",
       "      <td>10 Días por Año</td>\n",
       "      <td>45 Días por Año</td>\n",
       "    </tr>\n",
       "    <tr>\n",
       "      <th>62</th>\n",
       "      <td>3</td>\n",
       "      <td>NaN</td>\n",
       "      <td>OPERADOR/A TECNICO/A A</td>\n",
       "      <td>4129.411442</td>\n",
       "      <td>805.235231</td>\n",
       "      <td>1913.1</td>\n",
       "      <td>450</td>\n",
       "      <td>3347.786733</td>\n",
       "      <td>795.03</td>\n",
       "      <td>11440.563407</td>\n",
       "      <td>1025.541273</td>\n",
       "      <td>681.352888</td>\n",
       "      <td>123.882343</td>\n",
       "      <td>9609.786902</td>\n",
       "      <td>10 Días por Año</td>\n",
       "      <td>45 Días por Año</td>\n",
       "    </tr>\n",
       "    <tr>\n",
       "      <th>63</th>\n",
       "      <td>3</td>\n",
       "      <td>NaN</td>\n",
       "      <td>OPERADOR/A DE SERVICIOS A</td>\n",
       "      <td>4129.411442</td>\n",
       "      <td>805.235231</td>\n",
       "      <td>1913.1</td>\n",
       "      <td>450</td>\n",
       "      <td>3347.786733</td>\n",
       "      <td>795.03</td>\n",
       "      <td>11440.563407</td>\n",
       "      <td>1025.541273</td>\n",
       "      <td>681.352888</td>\n",
       "      <td>123.882343</td>\n",
       "      <td>9609.786902</td>\n",
       "      <td>10 Días por Año</td>\n",
       "      <td>45 Días por Año</td>\n",
       "    </tr>\n",
       "    <tr>\n",
       "      <th>64</th>\n",
       "      <td>3</td>\n",
       "      <td>NaN</td>\n",
       "      <td>OPERADOR/A ADMINISTRATIVO/A A</td>\n",
       "      <td>4129.411442</td>\n",
       "      <td>805.235231</td>\n",
       "      <td>1913.1</td>\n",
       "      <td>450</td>\n",
       "      <td>3347.786733</td>\n",
       "      <td>795.03</td>\n",
       "      <td>11440.563407</td>\n",
       "      <td>1025.541273</td>\n",
       "      <td>681.352888</td>\n",
       "      <td>123.882343</td>\n",
       "      <td>9609.786902</td>\n",
       "      <td>10 Días por Año</td>\n",
       "      <td>45 Días por Año</td>\n",
       "    </tr>\n",
       "    <tr>\n",
       "      <th>65</th>\n",
       "      <td>3</td>\n",
       "      <td>NaN</td>\n",
       "      <td>CADETE EN FORMACION A</td>\n",
       "      <td>4129.411442</td>\n",
       "      <td>805.235231</td>\n",
       "      <td>1913.1</td>\n",
       "      <td>450</td>\n",
       "      <td>3347.786733</td>\n",
       "      <td>795.03</td>\n",
       "      <td>11440.563407</td>\n",
       "      <td>1025.541273</td>\n",
       "      <td>681.352888</td>\n",
       "      <td>123.882343</td>\n",
       "      <td>9609.786902</td>\n",
       "      <td>10 Días por Año</td>\n",
       "      <td>45 Días por Año</td>\n",
       "    </tr>\n",
       "    <tr>\n",
       "      <th>66</th>\n",
       "      <td>2</td>\n",
       "      <td>NaN</td>\n",
       "      <td>OPERADOR/A TECNICO/A B</td>\n",
       "      <td>3732.062858</td>\n",
       "      <td>727.752257</td>\n",
       "      <td>1913.1</td>\n",
       "      <td>450</td>\n",
       "      <td>2825.625180</td>\n",
       "      <td>135.31</td>\n",
       "      <td>9783.850296</td>\n",
       "      <td>761.262086</td>\n",
       "      <td>615.790372</td>\n",
       "      <td>111.961886</td>\n",
       "      <td>8294.835952</td>\n",
       "      <td>10 Días por Año</td>\n",
       "      <td>45 Días por Año</td>\n",
       "    </tr>\n",
       "    <tr>\n",
       "      <th>67</th>\n",
       "      <td>2</td>\n",
       "      <td>NaN</td>\n",
       "      <td>OPERADOR/A COMERCIAL B</td>\n",
       "      <td>3732.062858</td>\n",
       "      <td>727.752257</td>\n",
       "      <td>1913.1</td>\n",
       "      <td>450</td>\n",
       "      <td>2825.625180</td>\n",
       "      <td>135.31</td>\n",
       "      <td>9783.850296</td>\n",
       "      <td>761.262086</td>\n",
       "      <td>615.790372</td>\n",
       "      <td>111.961886</td>\n",
       "      <td>8294.835952</td>\n",
       "      <td>10 Días por Año</td>\n",
       "      <td>45 Días por Año</td>\n",
       "    </tr>\n",
       "    <tr>\n",
       "      <th>68</th>\n",
       "      <td>2</td>\n",
       "      <td>NaN</td>\n",
       "      <td>OPERADOR/A DE SERVICIOS B</td>\n",
       "      <td>3732.062858</td>\n",
       "      <td>727.752257</td>\n",
       "      <td>1913.1</td>\n",
       "      <td>450</td>\n",
       "      <td>2825.625180</td>\n",
       "      <td>135.31</td>\n",
       "      <td>9783.850296</td>\n",
       "      <td>761.262086</td>\n",
       "      <td>615.790372</td>\n",
       "      <td>111.961886</td>\n",
       "      <td>8294.835952</td>\n",
       "      <td>10 Días por Año</td>\n",
       "      <td>45 Días por Año</td>\n",
       "    </tr>\n",
       "    <tr>\n",
       "      <th>69</th>\n",
       "      <td>2</td>\n",
       "      <td>NaN</td>\n",
       "      <td>OPERADOR/A ADMINISTRATIVO/A B</td>\n",
       "      <td>3732.062858</td>\n",
       "      <td>727.752257</td>\n",
       "      <td>1913.1</td>\n",
       "      <td>450</td>\n",
       "      <td>2825.625180</td>\n",
       "      <td>135.31</td>\n",
       "      <td>9783.850296</td>\n",
       "      <td>761.262086</td>\n",
       "      <td>615.790372</td>\n",
       "      <td>111.961886</td>\n",
       "      <td>8294.835952</td>\n",
       "      <td>10 Días por Año</td>\n",
       "      <td>45 Días por Año</td>\n",
       "    </tr>\n",
       "    <tr>\n",
       "      <th>70</th>\n",
       "      <td>2</td>\n",
       "      <td>NaN</td>\n",
       "      <td>CADETE EN FORMACION B</td>\n",
       "      <td>3732.062858</td>\n",
       "      <td>727.752257</td>\n",
       "      <td>1913.1</td>\n",
       "      <td>450</td>\n",
       "      <td>2825.625180</td>\n",
       "      <td>135.31</td>\n",
       "      <td>9783.850296</td>\n",
       "      <td>761.262086</td>\n",
       "      <td>615.790372</td>\n",
       "      <td>111.961886</td>\n",
       "      <td>8294.835952</td>\n",
       "      <td>10 Días por Año</td>\n",
       "      <td>45 Días por Año</td>\n",
       "    </tr>\n",
       "    <tr>\n",
       "      <th>71</th>\n",
       "      <td>1</td>\n",
       "      <td>NaN</td>\n",
       "      <td>OPERADOR/A COMERCIAL C</td>\n",
       "      <td>3374.277535</td>\n",
       "      <td>657.984119</td>\n",
       "      <td>1913.1</td>\n",
       "      <td>450</td>\n",
       "      <td>2364.753825</td>\n",
       "      <td>34.39</td>\n",
       "      <td>8794.505479</td>\n",
       "      <td>639.354852</td>\n",
       "      <td>556.755793</td>\n",
       "      <td>101.228326</td>\n",
       "      <td>7497.166508</td>\n",
       "      <td>10 Días por Año</td>\n",
       "      <td>45 Días por Año</td>\n",
       "    </tr>\n",
       "    <tr>\n",
       "      <th>72</th>\n",
       "      <td>1</td>\n",
       "      <td>NaN</td>\n",
       "      <td>OPERADOR/A TECNICO/A C</td>\n",
       "      <td>3374.277535</td>\n",
       "      <td>657.984119</td>\n",
       "      <td>1913.1</td>\n",
       "      <td>450</td>\n",
       "      <td>2364.753825</td>\n",
       "      <td>34.39</td>\n",
       "      <td>8794.505479</td>\n",
       "      <td>639.354852</td>\n",
       "      <td>556.755793</td>\n",
       "      <td>101.228326</td>\n",
       "      <td>7497.166508</td>\n",
       "      <td>10 Días por Año</td>\n",
       "      <td>45 Días por Año</td>\n",
       "    </tr>\n",
       "    <tr>\n",
       "      <th>73</th>\n",
       "      <td>1</td>\n",
       "      <td>NaN</td>\n",
       "      <td>OPERADOR/A DE SERVICIOS C</td>\n",
       "      <td>3374.277535</td>\n",
       "      <td>657.984119</td>\n",
       "      <td>1913.1</td>\n",
       "      <td>450</td>\n",
       "      <td>2364.753825</td>\n",
       "      <td>34.39</td>\n",
       "      <td>8794.505479</td>\n",
       "      <td>639.354852</td>\n",
       "      <td>556.755793</td>\n",
       "      <td>101.228326</td>\n",
       "      <td>7497.166508</td>\n",
       "      <td>10 Días por Año</td>\n",
       "      <td>45 Días por Año</td>\n",
       "    </tr>\n",
       "    <tr>\n",
       "      <th>74</th>\n",
       "      <td>1</td>\n",
       "      <td>NaN</td>\n",
       "      <td>OPERADOR/A ADMINISTRATIVO/A C</td>\n",
       "      <td>3374.277535</td>\n",
       "      <td>657.984119</td>\n",
       "      <td>1913.1</td>\n",
       "      <td>450</td>\n",
       "      <td>2364.753825</td>\n",
       "      <td>34.39</td>\n",
       "      <td>8794.505479</td>\n",
       "      <td>639.354852</td>\n",
       "      <td>556.755793</td>\n",
       "      <td>101.228326</td>\n",
       "      <td>7497.166508</td>\n",
       "      <td>10 Días por Año</td>\n",
       "      <td>45 Días por Año</td>\n",
       "    </tr>\n",
       "    <tr>\n",
       "      <th>75</th>\n",
       "      <td>1</td>\n",
       "      <td>A</td>\n",
       "      <td>OPERADOR/A ADMINISTRATIVO/A D</td>\n",
       "      <td>3080.400000</td>\n",
       "      <td>600.678000</td>\n",
       "      <td>1913.1</td>\n",
       "      <td>450</td>\n",
       "      <td>1572.330000</td>\n",
       "      <td>0.00</td>\n",
       "      <td>7616.508000</td>\n",
       "      <td>263.883632</td>\n",
       "      <td>508.266000</td>\n",
       "      <td>92.412000</td>\n",
       "      <td>6751.946368</td>\n",
       "      <td>10 Días por Año</td>\n",
       "      <td>45 Días por Año</td>\n",
       "    </tr>\n",
       "    <tr>\n",
       "      <th>76</th>\n",
       "      <td>1</td>\n",
       "      <td>A</td>\n",
       "      <td>OPERADOR/A DE SERVICIOS D</td>\n",
       "      <td>3080.400000</td>\n",
       "      <td>600.678000</td>\n",
       "      <td>1913.1</td>\n",
       "      <td>450</td>\n",
       "      <td>1572.330000</td>\n",
       "      <td>0.00</td>\n",
       "      <td>7616.508000</td>\n",
       "      <td>263.883632</td>\n",
       "      <td>508.266000</td>\n",
       "      <td>92.412000</td>\n",
       "      <td>6751.946368</td>\n",
       "      <td>10 Días por Año</td>\n",
       "      <td>45 Días por Año</td>\n",
       "    </tr>\n",
       "    <tr>\n",
       "      <th>77</th>\n",
       "      <td>1</td>\n",
       "      <td>A</td>\n",
       "      <td>OPERADOR/A COMERCIAL D</td>\n",
       "      <td>3080.400000</td>\n",
       "      <td>600.678000</td>\n",
       "      <td>1913.1</td>\n",
       "      <td>450</td>\n",
       "      <td>1572.330000</td>\n",
       "      <td>0.00</td>\n",
       "      <td>7616.508000</td>\n",
       "      <td>263.883632</td>\n",
       "      <td>508.266000</td>\n",
       "      <td>92.412000</td>\n",
       "      <td>6751.946368</td>\n",
       "      <td>10 Días por Año</td>\n",
       "      <td>45 Días por Año</td>\n",
       "    </tr>\n",
       "    <tr>\n",
       "      <th>78</th>\n",
       "      <td>1</td>\n",
       "      <td>A</td>\n",
       "      <td>OPERADOR/A TECNICO/A D</td>\n",
       "      <td>3080.400000</td>\n",
       "      <td>600.678000</td>\n",
       "      <td>1913.1</td>\n",
       "      <td>450</td>\n",
       "      <td>1572.330000</td>\n",
       "      <td>0.00</td>\n",
       "      <td>7616.508000</td>\n",
       "      <td>263.883632</td>\n",
       "      <td>508.266000</td>\n",
       "      <td>92.412000</td>\n",
       "      <td>6751.946368</td>\n",
       "      <td>10 Días por Año</td>\n",
       "      <td>45 Días por Año</td>\n",
       "    </tr>\n",
       "  </tbody>\n",
       "</table>\n",
       "</div>"
      ],
      "text/plain": [
       "    NIVEL TIPO                           PUESTO  SUELDO BASE  \\\n",
       "33      9    A                 SUBINSPECTOR/A A  9833.843465   \n",
       "34      9  NaN         JEFE/A DE DEPARTAMENTO B  9833.843465   \n",
       "35      9  NaN          ANALISTA DE PROYECTOS B  9833.843465   \n",
       "36      9  NaN    PROFESIONAL ESPECIALIZADO/A A  9833.843465   \n",
       "37      8    A                        OFICIAL A  9458.572628   \n",
       "38      8  NaN         ESPECIALISTA TECNICO/A A  9458.572628   \n",
       "39      8  NaN         JEFE/A DE DEPARTAMENTO C  9458.572628   \n",
       "40      8  NaN          ANALISTA DE PROYECTOS C  9458.572628   \n",
       "41      7    A                POLICIA PRIMERO A  8490.043958   \n",
       "42      7    A                     SUBOFICIAL A  8490.043958   \n",
       "43      7  NaN         ESPECIALISTA TECNICO/A B  8490.043958   \n",
       "44      7  NaN    PROFESIONAL ESPECIALIZADO/A B  8490.043958   \n",
       "45      7  NaN         JEFE/A DE DEPARTAMENTO D  8490.043958   \n",
       "46      6    A                POLICIA SEGUNDO A  6999.168402   \n",
       "47      6  NaN  ESPECIALISTA ADMINISTRATIVO/A A  6999.168402   \n",
       "48      6  NaN               JEFE/A DE UNIDAD A  6999.168402   \n",
       "49      6  NaN         ESPECIALISTA TECNICO/A C  6999.168402   \n",
       "50      6  NaN      ADMINISTRADOR/A COMERCIAL A  6999.168402   \n",
       "51      5    A                POLICIA TERCERO A  5298.129047   \n",
       "52      5  NaN  ESPECIALISTA ADMINISTRATIVO/A B  5298.129047   \n",
       "53      5  NaN         ESPECIALISTA TECNICO/A D  5298.129047   \n",
       "54      5  NaN               JEFE/A DE UNIDAD B  5298.129047   \n",
       "55      5  NaN      ADMINISTRADOR/A COMERCIAL B  5298.129047   \n",
       "56      4    A                          POLICIA  4592.879978   \n",
       "57      4  NaN         ESPECIALISTA TECNICO/A E  4564.185105   \n",
       "58      4  NaN  ESPECIALISTA ADMINISTRATIVO/A C  4564.185105   \n",
       "59      4  NaN        ESPECIALISTA DE SERVICIOS  4564.185105   \n",
       "60      4  NaN      ADMINISTRADOR/A COMERCIAL C  4564.185105   \n",
       "61      3  NaN           OPERADOR/A COMERCIAL A  4129.411442   \n",
       "62      3  NaN           OPERADOR/A TECNICO/A A  4129.411442   \n",
       "63      3  NaN        OPERADOR/A DE SERVICIOS A  4129.411442   \n",
       "64      3  NaN    OPERADOR/A ADMINISTRATIVO/A A  4129.411442   \n",
       "65      3  NaN            CADETE EN FORMACION A  4129.411442   \n",
       "66      2  NaN           OPERADOR/A TECNICO/A B  3732.062858   \n",
       "67      2  NaN           OPERADOR/A COMERCIAL B  3732.062858   \n",
       "68      2  NaN        OPERADOR/A DE SERVICIOS B  3732.062858   \n",
       "69      2  NaN    OPERADOR/A ADMINISTRATIVO/A B  3732.062858   \n",
       "70      2  NaN            CADETE EN FORMACION B  3732.062858   \n",
       "71      1  NaN           OPERADOR/A COMERCIAL C  3374.277535   \n",
       "72      1  NaN           OPERADOR/A TECNICO/A C  3374.277535   \n",
       "73      1  NaN        OPERADOR/A DE SERVICIOS C  3374.277535   \n",
       "74      1  NaN    OPERADOR/A ADMINISTRATIVO/A C  3374.277535   \n",
       "75      1    A    OPERADOR/A ADMINISTRATIVO/A D  3080.400000   \n",
       "76      1    A        OPERADOR/A DE SERVICIOS D  3080.400000   \n",
       "77      1    A           OPERADOR/A COMERCIAL D  3080.400000   \n",
       "78      1    A           OPERADOR/A TECNICO/A D  3080.400000   \n",
       "\n",
       "    CUOTAS SEGURIDAD SOCIAL  PREVISIÓN SOCIAL  AYUDA X SERVICIOS  \\\n",
       "33              1917.599476            1913.1               1175   \n",
       "34              1917.599476            1913.1               1175   \n",
       "35              1917.599476            1913.1               1175   \n",
       "36              1917.599476            1913.1               1175   \n",
       "37              1844.421662            1913.1               1012   \n",
       "38              1844.421662            1913.1               1012   \n",
       "39              1844.421662            1913.1               1012   \n",
       "40              1844.421662            1913.1               1012   \n",
       "41              1655.558572            1913.1                925   \n",
       "42              1655.558572            1913.1                925   \n",
       "43              1655.558572            1913.1                925   \n",
       "44              1655.558572            1913.1                925   \n",
       "45              1655.558572            1913.1                925   \n",
       "46              1364.837838            1913.1                863   \n",
       "47              1364.837838            1913.1                863   \n",
       "48              1364.837838            1913.1                863   \n",
       "49              1364.837838            1913.1                863   \n",
       "50              1364.837838            1913.1                863   \n",
       "51              1033.135164            1913.1                785   \n",
       "52              1033.135164            1913.1                785   \n",
       "53              1033.135164            1913.1                785   \n",
       "54              1033.135164            1913.1                785   \n",
       "55              1033.135164            1913.1                785   \n",
       "56               895.611596            1913.1                450   \n",
       "57               890.016096            1913.1                450   \n",
       "58               890.016096            1913.1                450   \n",
       "59               890.016096            1913.1                450   \n",
       "60               890.016096            1913.1                450   \n",
       "61               805.235231            1913.1                450   \n",
       "62               805.235231            1913.1                450   \n",
       "63               805.235231            1913.1                450   \n",
       "64               805.235231            1913.1                450   \n",
       "65               805.235231            1913.1                450   \n",
       "66               727.752257            1913.1                450   \n",
       "67               727.752257            1913.1                450   \n",
       "68               727.752257            1913.1                450   \n",
       "69               727.752257            1913.1                450   \n",
       "70               727.752257            1913.1                450   \n",
       "71               657.984119            1913.1                450   \n",
       "72               657.984119            1913.1                450   \n",
       "73               657.984119            1913.1                450   \n",
       "74               657.984119            1913.1                450   \n",
       "75               600.678000            1913.1                450   \n",
       "76               600.678000            1913.1                450   \n",
       "77               600.678000            1913.1                450   \n",
       "78               600.678000            1913.1                450   \n",
       "\n",
       "    APOYO FAMILIAR  GRATIFICACIÓN QUINCENAL  SUELDO MENSUAL BRUTO  \\\n",
       "33    12300.961355                  7598.34          34738.844296   \n",
       "34     8611.753511                  7598.34          31049.636451   \n",
       "35     8611.753511                  7598.34          31049.636451   \n",
       "36     8611.753511                  7598.34          31049.636451   \n",
       "37    10523.811864                  6545.82          31297.726155   \n",
       "38     7200.045078                  6545.82          27973.959369   \n",
       "39     7200.045078                  6545.82          27973.959369   \n",
       "40     7200.045078                  6545.82          27973.959369   \n",
       "41     9323.401986                  5841.10          28148.204516   \n",
       "42     9323.401986                  5841.10          28148.204516   \n",
       "43     6334.109193                  5841.10          25158.911722   \n",
       "44     6334.109193                  5841.10          25158.911722   \n",
       "45     6334.109193                  5841.10          25158.911722   \n",
       "46     7807.526840                  5026.42          23974.053080   \n",
       "47     5469.561333                  5026.42          21636.087573   \n",
       "48     5469.561333                  5026.42          21636.087573   \n",
       "49     5469.561333                  5026.42          21636.087573   \n",
       "50     5469.561333                  5026.42          21636.087573   \n",
       "51     6453.270563                  2968.00          18450.634774   \n",
       "52     4653.952461                  2968.00          16651.316672   \n",
       "53     4653.952461                  2968.00          16651.316672   \n",
       "54     4653.952461                  2968.00          16651.316672   \n",
       "55     4653.952461                  2968.00          16651.316672   \n",
       "56     6560.085291                   936.54          15348.216866   \n",
       "57     3599.725827                   936.54          12353.567028   \n",
       "58     3599.725827                   936.54          12353.567028   \n",
       "59     3599.725827                   936.54          12353.567028   \n",
       "60     3599.725827                   936.54          12353.567028   \n",
       "61     3347.786733                   795.03          11440.563407   \n",
       "62     3347.786733                   795.03          11440.563407   \n",
       "63     3347.786733                   795.03          11440.563407   \n",
       "64     3347.786733                   795.03          11440.563407   \n",
       "65     3347.786733                   795.03          11440.563407   \n",
       "66     2825.625180                   135.31           9783.850296   \n",
       "67     2825.625180                   135.31           9783.850296   \n",
       "68     2825.625180                   135.31           9783.850296   \n",
       "69     2825.625180                   135.31           9783.850296   \n",
       "70     2825.625180                   135.31           9783.850296   \n",
       "71     2364.753825                    34.39           8794.505479   \n",
       "72     2364.753825                    34.39           8794.505479   \n",
       "73     2364.753825                    34.39           8794.505479   \n",
       "74     2364.753825                    34.39           8794.505479   \n",
       "75     1572.330000                     0.00           7616.508000   \n",
       "76     1572.330000                     0.00           7616.508000   \n",
       "77     1572.330000                     0.00           7616.508000   \n",
       "78     1572.330000                     0.00           7616.508000   \n",
       "\n",
       "    IMPTO MENSUAL        ISSEG      ISSSTE  SUELDO MENSUAL NETO  \\\n",
       "33    5902.907118  1622.584172  295.015304         26918.337702   \n",
       "34    5035.205433  1622.584172  295.015304         24096.831543   \n",
       "35    5035.205433  1622.584172  295.015304         24096.831543   \n",
       "36    5035.205433  1622.584172  295.015304         24096.831543   \n",
       "37    5110.767553  1560.664484  283.757179         24342.536940   \n",
       "38    4329.017605  1560.664484  283.757179         21800.520102   \n",
       "39    4329.017605  1560.664484  283.757179         21800.520102   \n",
       "40    4329.017605  1560.664484  283.757179         21800.520102   \n",
       "41    4414.420662  1400.857253  254.701319         22078.225282   \n",
       "42    4414.420662  1400.857253  254.701319         22078.225282   \n",
       "43    3726.860913  1400.857253  254.701319         19776.492237   \n",
       "44    3726.860913  1400.857253  254.701319         19776.492237   \n",
       "45    3726.860913  1400.857253  254.701319         19776.492237   \n",
       "46    3535.873056  1154.862786  209.975052         19073.342186   \n",
       "47    3036.483623  1154.862786  209.975052         17234.766111   \n",
       "48    3036.483623  1154.862786  209.975052         17234.766111   \n",
       "49    3036.483623  1154.862786  209.975052         17234.766111   \n",
       "50    3036.483623  1154.862786  209.975052         17234.766111   \n",
       "51    2426.922597   874.191293  158.943871         14990.577013   \n",
       "52    2042.588250   874.191293  158.943871         13575.593258   \n",
       "53    2042.588250   874.191293  158.943871         13575.593258   \n",
       "54    2042.588250   874.191293  158.943871         13575.593258   \n",
       "55    2042.588250   874.191293  158.943871         13575.593258   \n",
       "56    1793.621166   757.825196  137.786399         12658.984104   \n",
       "57    1173.958791   753.090542  136.925553         10289.592141   \n",
       "58    1173.958791   753.090542  136.925553         10289.592141   \n",
       "59    1173.958791   753.090542  136.925553         10289.592141   \n",
       "60    1173.958791   753.090542  136.925553         10289.592141   \n",
       "61    1025.541273   681.352888  123.882343          9609.786902   \n",
       "62    1025.541273   681.352888  123.882343          9609.786902   \n",
       "63    1025.541273   681.352888  123.882343          9609.786902   \n",
       "64    1025.541273   681.352888  123.882343          9609.786902   \n",
       "65    1025.541273   681.352888  123.882343          9609.786902   \n",
       "66     761.262086   615.790372  111.961886          8294.835952   \n",
       "67     761.262086   615.790372  111.961886          8294.835952   \n",
       "68     761.262086   615.790372  111.961886          8294.835952   \n",
       "69     761.262086   615.790372  111.961886          8294.835952   \n",
       "70     761.262086   615.790372  111.961886          8294.835952   \n",
       "71     639.354852   556.755793  101.228326          7497.166508   \n",
       "72     639.354852   556.755793  101.228326          7497.166508   \n",
       "73     639.354852   556.755793  101.228326          7497.166508   \n",
       "74     639.354852   556.755793  101.228326          7497.166508   \n",
       "75     263.883632   508.266000   92.412000          6751.946368   \n",
       "76     263.883632   508.266000   92.412000          6751.946368   \n",
       "77     263.883632   508.266000   92.412000          6751.946368   \n",
       "78     263.883632   508.266000   92.412000          6751.946368   \n",
       "\n",
       "   PRIMA VACACIONAL        AGUINALDO  \n",
       "33  10 Días por Año  45 Días por Año  \n",
       "34  10 Días por Año  45 Días por Año  \n",
       "35  10 Días por Año  45 Días por Año  \n",
       "36  10 Días por Año  45 Días por Año  \n",
       "37  10 Días por Año  45 Días por Año  \n",
       "38  10 Días por Año  45 Días por Año  \n",
       "39  10 Días por Año  45 Días por Año  \n",
       "40  10 Días por Año  45 Días por Año  \n",
       "41  10 Días por Año  45 Días por Año  \n",
       "42  10 Días por Año  45 Días por Año  \n",
       "43  10 Días por Año  45 Días por Año  \n",
       "44  10 Días por Año  45 Días por Año  \n",
       "45  10 Días por Año  45 Días por Año  \n",
       "46  10 Días por Año  45 Días por Año  \n",
       "47  10 Días por Año  45 Días por Año  \n",
       "48  10 Días por Año  45 Días por Año  \n",
       "49  10 Días por Año  45 Días por Año  \n",
       "50  10 Días por Año  45 Días por Año  \n",
       "51  10 Días por Año  45 Días por Año  \n",
       "52  10 Días por Año  45 Días por Año  \n",
       "53  10 Días por Año  45 Días por Año  \n",
       "54  10 Días por Año  45 Días por Año  \n",
       "55  10 Días por Año  45 Días por Año  \n",
       "56  10 Días por Año  45 Días por Año  \n",
       "57  10 Días por Año  45 Días por Año  \n",
       "58  10 Días por Año  45 Días por Año  \n",
       "59  10 Días por Año  45 Días por Año  \n",
       "60  10 Días por Año  45 Días por Año  \n",
       "61  10 Días por Año  45 Días por Año  \n",
       "62  10 Días por Año  45 Días por Año  \n",
       "63  10 Días por Año  45 Días por Año  \n",
       "64  10 Días por Año  45 Días por Año  \n",
       "65  10 Días por Año  45 Días por Año  \n",
       "66  10 Días por Año  45 Días por Año  \n",
       "67  10 Días por Año  45 Días por Año  \n",
       "68  10 Días por Año  45 Días por Año  \n",
       "69  10 Días por Año  45 Días por Año  \n",
       "70  10 Días por Año  45 Días por Año  \n",
       "71  10 Días por Año  45 Días por Año  \n",
       "72  10 Días por Año  45 Días por Año  \n",
       "73  10 Días por Año  45 Días por Año  \n",
       "74  10 Días por Año  45 Días por Año  \n",
       "75  10 Días por Año  45 Días por Año  \n",
       "76  10 Días por Año  45 Días por Año  \n",
       "77  10 Días por Año  45 Días por Año  \n",
       "78  10 Días por Año  45 Días por Año  "
      ]
     },
     "execution_count": 114,
     "metadata": {},
     "output_type": "execute_result"
    }
   ],
   "source": [
    "tabulador[tabulador['SUELDO BASE']<10000]"
   ]
  },
  {
   "cell_type": "code",
   "execution_count": 115,
   "metadata": {},
   "outputs": [
    {
     "data": {
      "text/html": [
       "<div>\n",
       "<style scoped>\n",
       "    .dataframe tbody tr th:only-of-type {\n",
       "        vertical-align: middle;\n",
       "    }\n",
       "\n",
       "    .dataframe tbody tr th {\n",
       "        vertical-align: top;\n",
       "    }\n",
       "\n",
       "    .dataframe thead th {\n",
       "        text-align: right;\n",
       "    }\n",
       "</style>\n",
       "<table border=\"1\" class=\"dataframe\">\n",
       "  <thead>\n",
       "    <tr style=\"text-align: right;\">\n",
       "      <th></th>\n",
       "      <th>NIVEL</th>\n",
       "      <th>SUELDO BASE</th>\n",
       "      <th>CUOTAS SEGURIDAD SOCIAL</th>\n",
       "      <th>PREVISIÓN SOCIAL</th>\n",
       "      <th>AYUDA X SERVICIOS</th>\n",
       "      <th>APOYO FAMILIAR</th>\n",
       "      <th>GRATIFICACIÓN QUINCENAL</th>\n",
       "      <th>SUELDO MENSUAL BRUTO</th>\n",
       "      <th>IMPTO MENSUAL</th>\n",
       "      <th>ISSEG</th>\n",
       "      <th>ISSSTE</th>\n",
       "      <th>SUELDO MENSUAL NETO</th>\n",
       "    </tr>\n",
       "  </thead>\n",
       "  <tbody>\n",
       "    <tr>\n",
       "      <th>count</th>\n",
       "      <td>79.000000</td>\n",
       "      <td>79.000000</td>\n",
       "      <td>79.000000</td>\n",
       "      <td>7.900000e+01</td>\n",
       "      <td>79.000000</td>\n",
       "      <td>79.000000</td>\n",
       "      <td>79.000000</td>\n",
       "      <td>79.000000</td>\n",
       "      <td>79.000000</td>\n",
       "      <td>79.000000</td>\n",
       "      <td>79.000000</td>\n",
       "      <td>79.000000</td>\n",
       "    </tr>\n",
       "    <tr>\n",
       "      <th>mean</th>\n",
       "      <td>8.670886</td>\n",
       "      <td>14427.528244</td>\n",
       "      <td>2551.057005</td>\n",
       "      <td>1.913100e+03</td>\n",
       "      <td>4224.316456</td>\n",
       "      <td>13095.416510</td>\n",
       "      <td>13255.957722</td>\n",
       "      <td>49467.375935</td>\n",
       "      <td>11086.965356</td>\n",
       "      <td>2178.762464</td>\n",
       "      <td>372.294541</td>\n",
       "      <td>35829.353574</td>\n",
       "    </tr>\n",
       "    <tr>\n",
       "      <th>std</th>\n",
       "      <td>5.658489</td>\n",
       "      <td>12639.319936</td>\n",
       "      <td>1887.367119</td>\n",
       "      <td>4.576531e-13</td>\n",
       "      <td>5917.564742</td>\n",
       "      <td>12561.423626</td>\n",
       "      <td>16283.009818</td>\n",
       "      <td>48932.415025</td>\n",
       "      <td>14333.022606</td>\n",
       "      <td>1632.291459</td>\n",
       "      <td>257.338508</td>\n",
       "      <td>32902.782725</td>\n",
       "    </tr>\n",
       "    <tr>\n",
       "      <th>min</th>\n",
       "      <td>1.000000</td>\n",
       "      <td>3080.400000</td>\n",
       "      <td>600.678000</td>\n",
       "      <td>1.913100e+03</td>\n",
       "      <td>450.000000</td>\n",
       "      <td>1572.330000</td>\n",
       "      <td>0.000000</td>\n",
       "      <td>7616.508000</td>\n",
       "      <td>263.883632</td>\n",
       "      <td>508.266000</td>\n",
       "      <td>92.412000</td>\n",
       "      <td>6751.946368</td>\n",
       "    </tr>\n",
       "    <tr>\n",
       "      <th>25%</th>\n",
       "      <td>4.000000</td>\n",
       "      <td>4564.185105</td>\n",
       "      <td>890.016096</td>\n",
       "      <td>1.913100e+03</td>\n",
       "      <td>450.000000</td>\n",
       "      <td>3599.725827</td>\n",
       "      <td>936.540000</td>\n",
       "      <td>12353.567028</td>\n",
       "      <td>1173.958791</td>\n",
       "      <td>753.090542</td>\n",
       "      <td>136.925553</td>\n",
       "      <td>10289.592141</td>\n",
       "    </tr>\n",
       "    <tr>\n",
       "      <th>50%</th>\n",
       "      <td>8.000000</td>\n",
       "      <td>9458.572628</td>\n",
       "      <td>1844.421662</td>\n",
       "      <td>1.913100e+03</td>\n",
       "      <td>1012.000000</td>\n",
       "      <td>8611.753511</td>\n",
       "      <td>6545.820000</td>\n",
       "      <td>28148.204516</td>\n",
       "      <td>4414.420662</td>\n",
       "      <td>1560.664484</td>\n",
       "      <td>283.757179</td>\n",
       "      <td>22078.225282</td>\n",
       "    </tr>\n",
       "    <tr>\n",
       "      <th>75%</th>\n",
       "      <td>13.000000</td>\n",
       "      <td>22680.796123</td>\n",
       "      <td>4422.755244</td>\n",
       "      <td>1.913100e+03</td>\n",
       "      <td>4906.000000</td>\n",
       "      <td>16798.836156</td>\n",
       "      <td>19519.330000</td>\n",
       "      <td>70240.817524</td>\n",
       "      <td>15454.848684</td>\n",
       "      <td>3742.331360</td>\n",
       "      <td>680.423884</td>\n",
       "      <td>50363.213596</td>\n",
       "    </tr>\n",
       "    <tr>\n",
       "      <th>max</th>\n",
       "      <td>22.000000</td>\n",
       "      <td>59804.327930</td>\n",
       "      <td>5843.070000</td>\n",
       "      <td>1.913100e+03</td>\n",
       "      <td>25897.000000</td>\n",
       "      <td>64294.837780</td>\n",
       "      <td>75373.990000</td>\n",
       "      <td>233126.325711</td>\n",
       "      <td>69584.321342</td>\n",
       "      <td>5082.660000</td>\n",
       "      <td>760.410000</td>\n",
       "      <td>157698.934369</td>\n",
       "    </tr>\n",
       "  </tbody>\n",
       "</table>\n",
       "</div>"
      ],
      "text/plain": [
       "           NIVEL   SUELDO BASE  CUOTAS SEGURIDAD SOCIAL  PREVISIÓN SOCIAL  \\\n",
       "count  79.000000     79.000000                79.000000      7.900000e+01   \n",
       "mean    8.670886  14427.528244              2551.057005      1.913100e+03   \n",
       "std     5.658489  12639.319936              1887.367119      4.576531e-13   \n",
       "min     1.000000   3080.400000               600.678000      1.913100e+03   \n",
       "25%     4.000000   4564.185105               890.016096      1.913100e+03   \n",
       "50%     8.000000   9458.572628              1844.421662      1.913100e+03   \n",
       "75%    13.000000  22680.796123              4422.755244      1.913100e+03   \n",
       "max    22.000000  59804.327930              5843.070000      1.913100e+03   \n",
       "\n",
       "       AYUDA X SERVICIOS  APOYO FAMILIAR  GRATIFICACIÓN QUINCENAL  \\\n",
       "count          79.000000       79.000000                79.000000   \n",
       "mean         4224.316456    13095.416510             13255.957722   \n",
       "std          5917.564742    12561.423626             16283.009818   \n",
       "min           450.000000     1572.330000                 0.000000   \n",
       "25%           450.000000     3599.725827               936.540000   \n",
       "50%          1012.000000     8611.753511              6545.820000   \n",
       "75%          4906.000000    16798.836156             19519.330000   \n",
       "max         25897.000000    64294.837780             75373.990000   \n",
       "\n",
       "       SUELDO MENSUAL BRUTO  IMPTO MENSUAL        ISSEG      ISSSTE  \\\n",
       "count             79.000000      79.000000    79.000000   79.000000   \n",
       "mean           49467.375935   11086.965356  2178.762464  372.294541   \n",
       "std            48932.415025   14333.022606  1632.291459  257.338508   \n",
       "min             7616.508000     263.883632   508.266000   92.412000   \n",
       "25%            12353.567028    1173.958791   753.090542  136.925553   \n",
       "50%            28148.204516    4414.420662  1560.664484  283.757179   \n",
       "75%            70240.817524   15454.848684  3742.331360  680.423884   \n",
       "max           233126.325711   69584.321342  5082.660000  760.410000   \n",
       "\n",
       "       SUELDO MENSUAL NETO  \n",
       "count            79.000000  \n",
       "mean          35829.353574  \n",
       "std           32902.782725  \n",
       "min            6751.946368  \n",
       "25%           10289.592141  \n",
       "50%           22078.225282  \n",
       "75%           50363.213596  \n",
       "max          157698.934369  "
      ]
     },
     "execution_count": 115,
     "metadata": {},
     "output_type": "execute_result"
    }
   ],
   "source": [
    "tabulador.describe()"
   ]
  },
  {
   "cell_type": "code",
   "execution_count": 133,
   "metadata": {},
   "outputs": [],
   "source": [
    "url='https://idconline.mx/laboral/salarios-minimos/salarios-minimos-1986-2007'\n",
    "html=requests.get(url).content"
   ]
  },
  {
   "cell_type": "markdown",
   "metadata": {},
   "source": [
    "requests?"
   ]
  },
  {
   "cell_type": "code",
   "execution_count": 134,
   "metadata": {},
   "outputs": [],
   "source": [
    "df_list=pd.read_html(html,header=1)\n",
    "df=df_list[-1]\n",
    "df.to_csv('salarios_minimos.csv')"
   ]
  },
  {
   "cell_type": "code",
   "execution_count": 139,
   "metadata": {},
   "outputs": [
    {
     "ename": "AttributeError",
     "evalue": "module 'posixpath' has no attribute 'file'",
     "output_type": "error",
     "traceback": [
      "\u001b[0;31m---------------------------------------------------------------------------\u001b[0m",
      "\u001b[0;31mAttributeError\u001b[0m                            Traceback (most recent call last)",
      "\u001b[0;32m<ipython-input-139-c6fd53bd31a3>\u001b[0m in \u001b[0;36m<module>\u001b[0;34m\u001b[0m\n\u001b[1;32m      1\u001b[0m \u001b[0mfile\u001b[0m\u001b[0;34m=\u001b[0m\u001b[0;34m'salarios_minimos.csv'\u001b[0m\u001b[0;34m\u001b[0m\u001b[0;34m\u001b[0m\u001b[0m\n\u001b[0;32m----> 2\u001b[0;31m \u001b[0;32mif\u001b[0m \u001b[0;32mnot\u001b[0m \u001b[0mos\u001b[0m\u001b[0;34m.\u001b[0m\u001b[0mpath\u001b[0m\u001b[0;34m.\u001b[0m\u001b[0mfile\u001b[0m\u001b[0;34m(\u001b[0m\u001b[0mfile\u001b[0m\u001b[0;34m)\u001b[0m\u001b[0;34m:\u001b[0m\u001b[0;34m\u001b[0m\u001b[0;34m\u001b[0m\u001b[0m\n\u001b[0m\u001b[1;32m      3\u001b[0m     \u001b[0murl\u001b[0m\u001b[0;34m=\u001b[0m\u001b[0;34m'https://idconline.mx/laboral/salarios-minimos/salarios-minimos-1986-2007'\u001b[0m\u001b[0;34m\u001b[0m\u001b[0;34m\u001b[0m\u001b[0m\n\u001b[1;32m      4\u001b[0m     \u001b[0mhtml\u001b[0m\u001b[0;34m=\u001b[0m\u001b[0mrequests\u001b[0m\u001b[0;34m.\u001b[0m\u001b[0mget\u001b[0m\u001b[0;34m(\u001b[0m\u001b[0murl\u001b[0m\u001b[0;34m)\u001b[0m\u001b[0;34m.\u001b[0m\u001b[0mcontent\u001b[0m\u001b[0;34m\u001b[0m\u001b[0;34m\u001b[0m\u001b[0m\n\u001b[1;32m      5\u001b[0m     \u001b[0mdf_list\u001b[0m\u001b[0;34m=\u001b[0m\u001b[0mpd\u001b[0m\u001b[0;34m.\u001b[0m\u001b[0mread_html\u001b[0m\u001b[0;34m(\u001b[0m\u001b[0mhtml\u001b[0m\u001b[0;34m,\u001b[0m\u001b[0mheader\u001b[0m\u001b[0;34m=\u001b[0m\u001b[0;36m1\u001b[0m\u001b[0;34m)\u001b[0m\u001b[0;34m\u001b[0m\u001b[0;34m\u001b[0m\u001b[0m\n",
      "\u001b[0;31mAttributeError\u001b[0m: module 'posixpath' has no attribute 'file'"
     ]
    }
   ],
   "source": [
    "file='salarios_minimos.csv'\n",
    "if not os.path.file(file):\n",
    "    url='https://idconline.mx/laboral/salarios-minimos/salarios-minimos-1986-2007'\n",
    "    html=requests.get(url).content\n",
    "    df_list=pd.read_html(html,header=1)\n",
    "    df=df_list[-1]\n",
    "    df.to_csv('salarios_minimos.csv')\n",
    "else:\n",
    "    dp=pd.read_csv(file)"
   ]
  },
  {
   "cell_type": "code",
   "execution_count": 140,
   "metadata": {},
   "outputs": [
    {
     "data": {
      "text/plain": [
       "'/home/antonio/Documentos/analisisdat/da2019-Dominguezha/Semana2'"
      ]
     },
     "execution_count": 140,
     "metadata": {},
     "output_type": "execute_result"
    }
   ],
   "source": [
    "pwd"
   ]
  },
  {
   "cell_type": "code",
   "execution_count": null,
   "metadata": {},
   "outputs": [],
   "source": []
  }
 ],
 "metadata": {
  "kernelspec": {
   "display_name": "Python 3",
   "language": "python",
   "name": "python3"
  },
  "language_info": {
   "codemirror_mode": {
    "name": "ipython",
    "version": 3
   },
   "file_extension": ".py",
   "mimetype": "text/x-python",
   "name": "python",
   "nbconvert_exporter": "python",
   "pygments_lexer": "ipython3",
   "version": "3.7.3"
  }
 },
 "nbformat": 4,
 "nbformat_minor": 4
}
